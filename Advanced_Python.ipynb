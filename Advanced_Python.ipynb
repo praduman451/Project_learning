{
 "cells": [
  {
   "cell_type": "code",
   "execution_count": 1,
   "id": "2b0d270b",
   "metadata": {},
   "outputs": [
    {
     "name": "stdout",
     "output_type": "stream",
     "text": [
      "Total price of Mobile is 18000.0\n",
      "Total price of Shoe is 180.0\n"
     ]
    }
   ],
   "source": [
    "def purchase_product(product_type, price):\n",
    "    discount = 10\n",
    "    total_price = price - price * discount / 100\n",
    "    print(\"Total price of \" +product_type+ \" is \"+str(total_price))\n",
    "purchase_product(\"Mobile\", 20000)\n",
    "purchase_product(\"Shoe\", 200)\n"
   ]
  },
  {
   "cell_type": "code",
   "execution_count": 2,
   "id": "882f7a02",
   "metadata": {},
   "outputs": [
    {
     "name": "stdout",
     "output_type": "stream",
     "text": [
      "Total price of Mobile is 18000.0\n",
      "Total price of Shoe is 204.0\n"
     ]
    }
   ],
   "source": [
    "def purchase_product(product_type, price, mobile_brand = None):\n",
    "    if product_type == \"Mobile\":\n",
    "        if mobile_brand == \"Apple\":\n",
    "            discount = 10\n",
    "        else:\n",
    "            discount = 5\n",
    "        total_price = price - price * discount / 100\n",
    "    else:\n",
    "        total_price = price + price * 2 / 100\n",
    "    print(\"Total price of \" +product_type+ \" is \"+str(total_price))\n",
    "purchase_product(\"Mobile\", 20000, \"Apple\")\n",
    "purchase_product(\"Shoe\", 200)\n"
   ]
  },
  {
   "cell_type": "code",
   "execution_count": 3,
   "id": "f3ca757a",
   "metadata": {},
   "outputs": [
    {
     "ename": "SyntaxError",
     "evalue": "invalid syntax (<ipython-input-3-11c573c6800c>, line 3)",
     "output_type": "error",
     "traceback": [
      "\u001b[1;36m  File \u001b[1;32m\"<ipython-input-3-11c573c6800c>\"\u001b[1;36m, line \u001b[1;32m3\u001b[0m\n\u001b[1;33m    if product_type == \"Mobile\" or product_type=\"Shoe\":\u001b[0m\n\u001b[1;37m                                               ^\u001b[0m\n\u001b[1;31mSyntaxError\u001b[0m\u001b[1;31m:\u001b[0m invalid syntax\n"
     ]
    }
   ],
   "source": [
    "#For checking purpose- 1\n",
    "def purchase_product(product_type, price, mobile_brand = None):\n",
    "    if product_type == \"Mobile\" or product_type=\"Shoe\":\n",
    "        if mobile_brand == \"Apple\":\n",
    "            discount = 10\n",
    "        else:\n",
    "            discount = 5\n",
    "        total_price = price - price * discount / 100\n",
    "    else:\n",
    "        total_price = price + price * 2 / 100\n",
    "    print(\"Total price of \" +product_type+ \" is \"+str(total_price))\n",
    "purchase_product(\"Mobile\", 40000, \"OnePlus\")\n",
    "purchase_product(\"Shoe\", 2000)"
   ]
  },
  {
   "cell_type": "code",
   "execution_count": 4,
   "id": "dc4979cd",
   "metadata": {},
   "outputs": [
    {
     "name": "stdout",
     "output_type": "stream",
     "text": [
      "Total price of Mobile is 38000.0\n",
      "Total price of Shoe is 1900.0\n"
     ]
    }
   ],
   "source": [
    "#For checking Purpose- 1\n",
    "def purchase_product(product_type, price, mobile_brand = None):\n",
    "    if product_type == \"Mobile\" or product_type==\"Shoe\":\n",
    "        if mobile_brand == \"Apple\":\n",
    "            discount = 10\n",
    "        else:\n",
    "            discount = 5\n",
    "        total_price = price - price * discount / 100   #This is will run for shoe \n",
    "    else:\n",
    "        total_price = price + price * 2 / 100\n",
    "    print(\"Total price of \" +product_type+ \" is \"+str(total_price))\n",
    "purchase_product(\"Mobile\", 40000, \"OnePlus\")\n",
    "purchase_product(\"Shoe\", 2000)"
   ]
  },
  {
   "cell_type": "code",
   "execution_count": 5,
   "id": "59eef1ac",
   "metadata": {},
   "outputs": [
    {
     "name": "stdout",
     "output_type": "stream",
     "text": [
      "Total price of Mobile is 18000.0\n",
      "Total price of Shoe is 210.0\n"
     ]
    }
   ],
   "source": [
    "def purchase_product(product_type,price,mobile_brand,material):\n",
    "    if product_type == \"Mobile\":\n",
    "        if mobile_brand == \"Apple\":\n",
    "            discount = 10\n",
    "        else:\n",
    "            discount = 5\n",
    "        total_price = price - price * discount / 100\n",
    "    else:\n",
    "        if material == \"leather\":\n",
    "            tax = 5\n",
    "        else:\n",
    "            tax = 2\n",
    "        total_price = price + price * tax / 100\n",
    "    print(\"Total price of \"+product_type+\" is \"+str(total_price))\n",
    "purchase_product(\"Mobile\",20000,\"Apple\",None)\n",
    "purchase_product(\"Shoe\",200,None,\"leather\")\n"
   ]
  },
  {
   "cell_type": "code",
   "execution_count": 7,
   "id": "7383f8c2",
   "metadata": {},
   "outputs": [
    {
     "name": "stdout",
     "output_type": "stream",
     "text": [
      "Total price for Mobile is 18000.0\n",
      "Total price for Shoe is 210.0\n",
      "Refund price for Mobile is  18000.0\n"
     ]
    }
   ],
   "source": [
    "total_price_mobile = 0\n",
    "total_price_shoe = 0\n",
    "def purchase_mobile(price,brand):\n",
    "    global total_price_mobile\n",
    "    if brand == \"Apple\":\n",
    "        discount = 10\n",
    "    else:\n",
    "        discount = 5\n",
    "    total_price_mobile = price - price * discount / 100\n",
    "    print(\"Total price for Mobile is \"+str(total_price_mobile))\n",
    "def purchase_shoe(price,material):\n",
    "    global total_price_shoe\n",
    "    if material == \"leather\":\n",
    "        tax = 5\n",
    "    else:\n",
    "        tax = 2\n",
    "    total_price_shoe = price + price * tax / 100\n",
    "    print(\"Total price for Shoe is \"+str(total_price_shoe))\n",
    "def return_mobile():\n",
    "    print(\"Refund price for Mobile is \",total_price_mobile)\n",
    "def return_shoe():\n",
    "    print(\"Refund price for Shoe is \",total_price_shoe)\n",
    "purchase_mobile(20000,\"Apple\")\n",
    "purchase_shoe(200,\"leather\")\n",
    "return_mobile()\n",
    "\n"
   ]
  },
  {
   "cell_type": "code",
   "execution_count": 8,
   "id": "c2cd3b41",
   "metadata": {},
   "outputs": [
    {
     "name": "stdout",
     "output_type": "stream",
     "text": [
      "11\n",
      "11\n"
     ]
    }
   ],
   "source": [
    "#OOPs started\n",
    "class Mobile:\n",
    "    pass\n",
    "mob1=Mobile()\n",
    "mob2=Mobile()\n",
    "mob1.price=20000\n",
    "mob1.brand=\"Apple\"\n",
    "mob1.ios_version=11\n",
    "print(mob1.ios_version)\n",
    "mob2.price=3000\n",
    "mob2.brand=\"Apple\"\n",
    "mob2.ios_versio=11\n",
    "print(mob2.ios_versio)\n"
   ]
  },
  {
   "cell_type": "code",
   "execution_count": 10,
   "id": "7cdcd5e2",
   "metadata": {},
   "outputs": [
    {
     "name": "stdout",
     "output_type": "stream",
     "text": [
      "Mobile 1 has brand  Apple and price  40000\n"
     ]
    }
   ],
   "source": [
    "#Constructor\n",
    "\n",
    "class Mobile:\n",
    "    def __init__(self, brand, price):\n",
    "        self.brand = brand\n",
    "        self.price = price\n",
    "mob1 = Mobile(\"Apple\", 40000)\n",
    "print(\"Mobile 1 has brand \", mob1.brand, \"and price \", mob1.price)"
   ]
  },
  {
   "cell_type": "code",
   "execution_count": 11,
   "id": "98c3ad85",
   "metadata": {},
   "outputs": [
    {
     "name": "stdout",
     "output_type": "stream",
     "text": [
      "Mobile 1 has brand  Apple and price  40000\n"
     ]
    }
   ],
   "source": [
    "#For checking Purpose- 2\n",
    "\n",
    "class Mobile:\n",
    "    def __init__(my_own_self, brand, price):   #it can work even we replace self with any name\n",
    "        my_own_self.brand = brand\n",
    "        my_own_self.price = price\n",
    "mob1 = Mobile(\"Apple\", 40000)\n",
    "print(\"Mobile 1 has brand \", mob1.brand, \"and price \", mob1.price)"
   ]
  },
  {
   "cell_type": "code",
   "execution_count": 14,
   "id": "c2db99a4",
   "metadata": {},
   "outputs": [
    {
     "name": "stdout",
     "output_type": "stream",
     "text": [
      "Deleting the object\n",
      "Deleting the object\n"
     ]
    }
   ],
   "source": [
    "#Destructor\n",
    "class Product:\n",
    "    def __init__(self,price,brand):\n",
    "        self.price=price\n",
    "        self.brand=brand\n",
    "    def __del__(self):\n",
    "        print('Deleting the object')\n",
    "p1=Product(10000,'Apple')\n",
    "p2=Product(7000,'Samsung')\n",
    "del p1\n",
    "del p2"
   ]
  },
  {
   "cell_type": "code",
   "execution_count": 15,
   "id": "a4516303",
   "metadata": {},
   "outputs": [
    {
     "name": "stdout",
     "output_type": "stream",
     "text": [
      "Inside constructor\n",
      "Purchasing a mobile\n",
      "Purchasing a mobile\n"
     ]
    }
   ],
   "source": [
    "class Mobile:\n",
    "    def __init__(self):\n",
    "        print(\"Inside constructor\")\n",
    "    def purchase (self):\n",
    "        print(\"Purchasing a mobile\")\n",
    "mob1=Mobile()\n",
    "mob1.purchase() #Inbound method invocation, We need not pass the value for self.\n",
    "Mobile.purchase(mob1) #Outbound method invocation, We have to pass the object as the value of self.\n"
   ]
  },
  {
   "cell_type": "code",
   "execution_count": 17,
   "id": "b5e60c27",
   "metadata": {
    "scrolled": true
   },
   "outputs": [
    {
     "name": "stdout",
     "output_type": "stream",
     "text": [
      "Mobile - 1 \n",
      "Inside Constructor, Initilizing objects....\n",
      "Purchasing a Mobile\n",
      "This mobile has brand Apple and price 72000\n",
      "Mobile - 2 \n",
      "Inside Constructor, Initilizing objects....\n",
      "Purchasing a Mobile\n",
      "This mobile has brand MI and price 23000\n"
     ]
    }
   ],
   "source": [
    "class Mobile:\n",
    "    def __init__(self, brand, price):\n",
    "        print(\"Inside Constructor, Initilizing objects....\")\n",
    "        self.brand = brand\n",
    "        self.price = price\n",
    "    def purchase(self):\n",
    "        print(\"Purchasing a Mobile\")\n",
    "        print(\"This mobile has brand\", self.brand, \"and price\", self.price)\n",
    "\n",
    "print(\"Mobile - 1 \")\n",
    "mob1 = Mobile(\"Apple\", 72000)\n",
    "mob1.purchase()\n",
    "\n",
    "print(\"Mobile - 2 \")\n",
    "mob1 = Mobile(\"MI\", 23000)\n",
    "mob1.purchase()\n"
   ]
  },
  {
   "cell_type": "code",
   "execution_count": 19,
   "id": "9e71f130",
   "metadata": {},
   "outputs": [
    {
     "name": "stdout",
     "output_type": "stream",
     "text": [
      "The balance is  1500\n"
     ]
    }
   ],
   "source": [
    "#Before Encapsulation\n",
    "class Customer:\n",
    "    def __init__(self, cust_id, name, age, wallet_balance):\n",
    "        self.cust_id = cust_id\n",
    "        self.name = name\n",
    "        self.age = age\n",
    "        self.wallet_balance = wallet_balance\n",
    "    def update_balance(self,amount):\n",
    "        if amount < 1000 and amount > 0:\n",
    "            self.wallet_balance += amount\n",
    "    def show_balance(self):\n",
    "            print(\"The balance is \",self.wallet_balance)\n",
    "c1=Customer(100, \"Gopal\", 24, 1000)\n",
    "c1.update_balance(500)\n",
    "c1.show_balance()\n"
   ]
  },
  {
   "cell_type": "code",
   "execution_count": 20,
   "id": "d20f5b65",
   "metadata": {},
   "outputs": [
    {
     "ename": "AttributeError",
     "evalue": "'Customer' object has no attribute '__wallet_balance'",
     "output_type": "error",
     "traceback": [
      "\u001b[1;31m---------------------------------------------------------------------------\u001b[0m",
      "\u001b[1;31mAttributeError\u001b[0m                            Traceback (most recent call last)",
      "\u001b[1;32m<ipython-input-20-4afda24a7e6a>\u001b[0m in \u001b[0;36m<module>\u001b[1;34m\u001b[0m\n\u001b[0;32m     12\u001b[0m         \u001b[0mprint\u001b[0m \u001b[1;33m(\u001b[0m\u001b[1;34m\"The balance is \"\u001b[0m\u001b[1;33m,\u001b[0m\u001b[0mself\u001b[0m\u001b[1;33m.\u001b[0m\u001b[0m__wallet_balance\u001b[0m\u001b[1;33m)\u001b[0m\u001b[1;33m\u001b[0m\u001b[1;33m\u001b[0m\u001b[0m\n\u001b[0;32m     13\u001b[0m \u001b[0mc1\u001b[0m\u001b[1;33m=\u001b[0m\u001b[0mCustomer\u001b[0m\u001b[1;33m(\u001b[0m\u001b[1;36m100\u001b[0m\u001b[1;33m,\u001b[0m \u001b[1;34m\"Gopal\"\u001b[0m\u001b[1;33m,\u001b[0m \u001b[1;36m24\u001b[0m\u001b[1;33m,\u001b[0m \u001b[1;36m1000\u001b[0m\u001b[1;33m)\u001b[0m\u001b[1;33m\u001b[0m\u001b[1;33m\u001b[0m\u001b[0m\n\u001b[1;32m---> 14\u001b[1;33m \u001b[0mprint\u001b[0m\u001b[1;33m(\u001b[0m\u001b[0mc1\u001b[0m\u001b[1;33m.\u001b[0m\u001b[0m__wallet_balance\u001b[0m\u001b[1;33m)\u001b[0m\u001b[1;33m\u001b[0m\u001b[1;33m\u001b[0m\u001b[0m\n\u001b[0m",
      "\u001b[1;31mAttributeError\u001b[0m: 'Customer' object has no attribute '__wallet_balance'"
     ]
    }
   ],
   "source": [
    "#After encapsulation\n",
    "class Customer:\n",
    "    def __init__(self, cust_id, name, age, wallet_balance):\n",
    "        self.cust_id = cust_id\n",
    "        self.name = name\n",
    "        self.age = age\n",
    "        self.__wallet_balance = wallet_balance\n",
    "    def update_balance(self, amount):\n",
    "        if amount < 1000 and amount > 0:\n",
    "            self.__wallet_balance += amount\n",
    "    def show_balance(self):\n",
    "        print (\"The balance is \",self.__wallet_balance)\n",
    "c1=Customer(100, \"Gopal\", 24, 1000)\n",
    "print(c1.__wallet_balance)   #it will show error because we can't access private attribute outside of class\n"
   ]
  },
  {
   "cell_type": "code",
   "execution_count": 21,
   "id": "59f2eb97",
   "metadata": {},
   "outputs": [
    {
     "name": "stdout",
     "output_type": "stream",
     "text": [
      "The balance is  1000\n"
     ]
    }
   ],
   "source": [
    "class Customer:\n",
    "    def __init__(self, cust_id, name, age, wallet_balance):\n",
    "        self.cust_id = cust_id\n",
    "        self.name = name\n",
    "        self.age = age\n",
    "        self.__wallet_balance = wallet_balance\n",
    "    def update_balance(self, amount):\n",
    "        if amount < 1000 and amount > 0:\n",
    "            self.__wallet_balance += amount\n",
    "    def show_balance(self):\n",
    "        print (\"The balance is \",self.__wallet_balance)\n",
    "c1=Customer(100, \"Gopal\", 24, 1000)\n",
    "c1.__wallet_balance = 10000000000  #we can do this but it will not affect wallet_balance\n",
    "c1.show_balance()  #it will give output as 1000\n"
   ]
  },
  {
   "cell_type": "code",
   "execution_count": 22,
   "id": "784264ff",
   "metadata": {},
   "outputs": [
    {
     "name": "stdout",
     "output_type": "stream",
     "text": [
      "The balance is  10000000000\n"
     ]
    }
   ],
   "source": [
    "class Customer:\n",
    "    def __init__(self, cust_id, name, age, wallet_balance):\n",
    "        self.cust_id = cust_id\n",
    "        self.name = name\n",
    "        self.age = age\n",
    "        self.__wallet_balance = wallet_balance\n",
    "    def update_balance(self, amount):\n",
    "        if amount < 1000 and amount > 0:\n",
    "            self.__wallet_balance += amount\n",
    "    def show_balance(self):\n",
    "        print (\"The balance is \",self.__wallet_balance)\n",
    "c1=Customer(100, \"Gopal\", 24, 1000)\n",
    "c1._Customer__wallet_balance = 10000000000\n",
    "c1.show_balance()\n"
   ]
  },
  {
   "cell_type": "code",
   "execution_count": 23,
   "id": "2f138f46",
   "metadata": {},
   "outputs": [
    {
     "name": "stdout",
     "output_type": "stream",
     "text": [
      "120\n"
     ]
    }
   ],
   "source": [
    "#getter and setter Implementation\n",
    "class Customer:\n",
    "    def __init__(self, id, name, age, wallet_balance):\n",
    "        self.id = id\n",
    "        self.name = name\n",
    "        self.age = age\n",
    "        self.__wallet_balance = wallet_balance\n",
    "    def set_wallet_balance(self, amount):\n",
    "        if amount < 1000 and amount>  0:\n",
    "            self.__wallet_balance = amount\n",
    "    def get_wallet_balance(self):\n",
    "        return self.__wallet_balance\n",
    "c1=Customer(100, \"Gopal\", 24, 1000)\n",
    "c1.set_wallet_balance(120)\n",
    "print(c1.get_wallet_balance())\n"
   ]
  },
  {
   "cell_type": "code",
   "execution_count": null,
   "id": "9c604a4c",
   "metadata": {},
   "outputs": [],
   "source": []
  }
 ],
 "metadata": {
  "kernelspec": {
   "display_name": "Python 3",
   "language": "python",
   "name": "python3"
  },
  "language_info": {
   "codemirror_mode": {
    "name": "ipython",
    "version": 3
   },
   "file_extension": ".py",
   "mimetype": "text/x-python",
   "name": "python",
   "nbconvert_exporter": "python",
   "pygments_lexer": "ipython3",
   "version": "3.8.8"
  }
 },
 "nbformat": 4,
 "nbformat_minor": 5
}
